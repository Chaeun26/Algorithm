{
 "cells": [
  {
   "cell_type": "code",
   "execution_count": 117,
   "metadata": {},
   "outputs": [
    {
     "name": "stdout",
     "output_type": "stream",
     "text": [
      "Input N: 4\n",
      "715\n"
     ]
    }
   ],
   "source": [
    "num=int(input(\"Input N: \"))\n",
    "arr=[[0]*10 for _ in range(0,num)]\n",
    "\n",
    "for i in range(0,10):\n",
    "    arr[0][i]=1\n",
    "\n",
    "for i in range(1,num):\n",
    "    arr[i][0]=1\n",
    "    for j in range(0,10):\n",
    "        arr[i][j]=arr[i-1][j]+arr[i][j-1]\n",
    "\n",
    "print(sum(arr[num-1])%10007)"
   ]
  },
  {
   "cell_type": "code",
   "execution_count": null,
   "metadata": {},
   "outputs": [],
   "source": []
  }
 ],
 "metadata": {
  "kernelspec": {
   "display_name": "Python 3",
   "language": "python",
   "name": "python3"
  },
  "language_info": {
   "codemirror_mode": {
    "name": "ipython",
    "version": 3
   },
   "file_extension": ".py",
   "mimetype": "text/x-python",
   "name": "python",
   "nbconvert_exporter": "python",
   "pygments_lexer": "ipython3",
   "version": "3.7.3"
  }
 },
 "nbformat": 4,
 "nbformat_minor": 2
}
