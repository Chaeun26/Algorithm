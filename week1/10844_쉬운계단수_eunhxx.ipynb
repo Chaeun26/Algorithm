{
 "cells": [
  {
   "cell_type": "code",
   "execution_count": 10,
   "metadata": {},
   "outputs": [
    {
     "name": "stdout",
     "output_type": "stream",
     "text": [
      "Input N: 3\n",
      "32\n"
     ]
    }
   ],
   "source": [
    "num=int(input(\"Input N: \"))\n",
    "arr=[[0]*10 for _ in range(0,num)]\n",
    "\n",
    "for i in range(1,10):\n",
    "    arr[0][i]=1\n",
    "\n",
    "for i in range(1,num):\n",
    "    for j in range(0,10):\n",
    "        if(j==0):\n",
    "            arr[i][j]=arr[i-1][j+1]\n",
    "        elif(j==9):\n",
    "            arr[i][j]=arr[i-1][j-1]\n",
    "        else:\n",
    "            arr[i][j]=arr[i-1][j-1]+arr[i-1][j]\n",
    "\n",
    "print(sum(arr[num-1])%1000000000)"
   ]
  },
  {
   "cell_type": "code",
   "execution_count": null,
   "metadata": {},
   "outputs": [],
   "source": []
  }
 ],
 "metadata": {
  "kernelspec": {
   "display_name": "Python 3",
   "language": "python",
   "name": "python3"
  },
  "language_info": {
   "codemirror_mode": {
    "name": "ipython",
    "version": 3
   },
   "file_extension": ".py",
   "mimetype": "text/x-python",
   "name": "python",
   "nbconvert_exporter": "python",
   "pygments_lexer": "ipython3",
   "version": "3.7.3"
  }
 },
 "nbformat": 4,
 "nbformat_minor": 2
}
