{
 "cells": [
  {
   "cell_type": "code",
   "execution_count": 99,
   "metadata": {
    "scrolled": true
   },
   "outputs": [
    {
     "name": "stdout",
     "output_type": "stream",
     "text": [
      "Input N: 5\n",
      "1\n",
      "1\n",
      "1\n",
      "2\n",
      "2\n"
     ]
    },
    {
     "data": {
      "text/plain": [
       "0"
      ]
     },
     "execution_count": 99,
     "metadata": {},
     "output_type": "execute_result"
    }
   ],
   "source": [
    "num=int(input(\"Input N: \"))\n",
    "\n",
    "score=[]\n",
    "k=0\n",
    "hacker=0\n",
    "\n",
    "for _ in range(num):\n",
    "    score.append(int(input()))\n",
    "score.sort()\n",
    "\n",
    "while(1):\n",
    "    \n",
    "    for i in range(k, num):\n",
    "        score[i]-=1\n",
    "        \n",
    "    if k==5:\n",
    "        break\n",
    "    \n",
    "    if score[k]==0:\n",
    "        k+=1\n",
    "        continue\n",
    "        \n",
    "    if score[num-1]==0:\n",
    "        break\n",
    "        \n",
    "    else:\n",
    "        while(1):\n",
    "            hacker+=1\n",
    "            score[k]-=1\n",
    "            if score[k]==0:\n",
    "                k+=1\n",
    "                break\n",
    "            else:\n",
    "                continue\n",
    "\n",
    "\n",
    "hacker"
   ]
  },
  {
   "cell_type": "code",
   "execution_count": null,
   "metadata": {},
   "outputs": [],
   "source": []
  }
 ],
 "metadata": {
  "kernelspec": {
   "display_name": "Python 3",
   "language": "python",
   "name": "python3"
  },
  "language_info": {
   "codemirror_mode": {
    "name": "ipython",
    "version": 3
   },
   "file_extension": ".py",
   "mimetype": "text/x-python",
   "name": "python",
   "nbconvert_exporter": "python",
   "pygments_lexer": "ipython3",
   "version": "3.7.3"
  }
 },
 "nbformat": 4,
 "nbformat_minor": 2
}
