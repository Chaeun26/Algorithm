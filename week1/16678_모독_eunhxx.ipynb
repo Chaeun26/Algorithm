{
 "cells": [
  {
   "cell_type": "code",
   "execution_count": 2,
   "metadata": {
    "scrolled": true
   },
   "outputs": [
    {
     "name": "stdout",
     "output_type": "stream",
     "text": [
      "5\n",
      "7\n",
      "3\n",
      "6\n",
      "2\n",
      "4\n",
      "7\n"
     ]
    }
   ],
   "source": [
    "num=int(input())\n",
    "\n",
    "score=[]\n",
    "hacker=0\n",
    "n=1\n",
    "\n",
    "for _ in range(num):\n",
    "    score.append(int(input()))\n",
    "\n",
    "for honor in sorted(score):\n",
    "    if honor >= n:\n",
    "        hacker += honor-n\n",
    "        n+=1\n",
    "\n",
    "print(hacker)"
   ]
  },
  {
   "cell_type": "code",
   "execution_count": null,
   "metadata": {},
   "outputs": [],
   "source": []
  }
 ],
 "metadata": {
  "kernelspec": {
   "display_name": "Python 3",
   "language": "python",
   "name": "python3"
  },
  "language_info": {
   "codemirror_mode": {
    "name": "ipython",
    "version": 3
   },
   "file_extension": ".py",
   "mimetype": "text/x-python",
   "name": "python",
   "nbconvert_exporter": "python",
   "pygments_lexer": "ipython3",
   "version": "3.7.3"
  }
 },
 "nbformat": 4,
 "nbformat_minor": 2
}
